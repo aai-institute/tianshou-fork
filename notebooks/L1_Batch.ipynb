{
  "nbformat": 4,
  "nbformat_minor": 0,
  "metadata": {
    "colab": {
      "provenance": []
    },
    "kernelspec": {
      "name": "python3",
      "display_name": "Python 3"
    },
    "language_info": {
      "name": "python"
    }
  },
  "cells": [
    {
      "cell_type": "code",
      "source": [
        "# Remember to install tianshou first\n",
        "!pip install tianshou==0.4.8\n",
        "!pip install gym"
      ],
      "metadata": {
        "id": "sHZTxH6m2FpG"
      },
      "execution_count": null,
      "outputs": []
    },
    {
      "cell_type": "markdown",
      "source": [
        "# Overview\n",
        "In this tutorial, we will introduce the **Batch** to you, which is the most basic data structure in Tianshou. You can simply considered Batch as a numpy version of python dictionary."
      ],
      "metadata": {
        "id": "69y6AHvq1S3f"
      }
    },
    {
      "cell_type": "code",
      "source": [
        "import numpy as np\n",
        "from tianshou.data import Batch\n",
        "data = Batch(a=4, b=[5, 5], c='2312312', d=('a', -2, -3))\n",
        "print(data)\n",
        "print(data.b)"
      ],
      "metadata": {
        "colab": {
          "base_uri": "https://localhost:8080/"
        },
        "id": "NkfiIe_y2FI-",
        "outputId": "5008275f-8f77-489a-af64-b35af4448589"
      },
      "execution_count": null,
      "outputs": [
        {
          "output_type": "stream",
          "name": "stdout",
          "text": [
            "Batch(\n",
            "    a: array(4),\n",
            "    b: array([5, 5]),\n",
            "    c: '2312312',\n",
            "    d: array(['a', '-2', '-3'], dtype=object),\n",
            ")\n",
            "[5 5]\n"
          ]
        }
      ]
    },
    {
      "cell_type": "markdown",
      "source": [
        "A batch is simply a dictionary which stores all passed in data as key-value pairs, and automatically turns the value into a numpy array if possible.\n",
        "\n",
        "## Why we need Batch in Tianshou?\n",
        "The motivation behind the implementation of Batch module is simple. In DRL, you need to handle a lot of dictionary-format data. For instance most algorithms would reuqire you to store state, action, and reward data for every step when interacting with the environment. All these data can be organised as a dictionary and a Batch module helps Tianshou unify the interface of a diverse set of algorithms. Plus, Batch supports advanced indexing, concantenation and splitting, formatting print just like any other numpy array, which may be very helpful for developers.\n",
        "<div align=center>\n",
        "<img src=\"https://tianshou.readthedocs.io/en/master/_images/concepts_arch.png\", title=\"Data flow is converted into a Batch in Tianshou\">\n",
        "\n",
        "<a> Data flow is converted into a Batch in Tianshou </a>\n",
        "</div>\n",
        "\n"
      ],
      "metadata": {
        "id": "S6e6OuXe3UT-"
      }
    },
    {
      "cell_type": "markdown",
      "source": [
        "# Basic Usages"
      ],
      "metadata": {
        "id": "_Xenx64M9HhV"
      }
    },
    {
      "cell_type": "markdown",
      "source": [
        "## Initialisation\n",
        "Batch can be converted directly from a python dictionary, and all data structure will be converted to numpy array if possible."
      ],
      "metadata": {
        "id": "4YGX_f1Z9Uil"
      }
    },
    {
      "cell_type": "code",
      "source": [
        "# converted from a python library\n",
        "print(\"========================================\")\n",
        "batch1 = Batch({'a': [4, 4], 'b': (5, 5)})\n",
        "print(batch1)\n",
        "\n",
        "# initialisation of batch2 is equivalent to batch1\n",
        "print(\"========================================\")\n",
        "batch2 = Batch(a=[4, 4], b=(5, 5))\n",
        "print(batch2)\n",
        "\n",
        "# the dictionary can be nested, and it will be turned into a nested Batch\n",
        "print(\"========================================\")\n",
        "data = {\n",
        "     'action': np.array([1.0, 2.0, 3.0]),\n",
        "     'reward': 3.66,\n",
        "     'obs': {\n",
        "         \"rgb_obs\": np.zeros((3, 3)),\n",
        "         \"flatten_obs\": np.ones(5),\n",
        "         },\n",
        "    }\n",
        "\n",
        "\n",
        "batch3 = Batch(data, extra=\"extra_string\")\n",
        "print(batch3)\n",
        "# batch3.obs is also a Batch\n",
        "print(type(batch3.obs))\n",
        "print(batch3.obs.rgb_obs)\n",
        "\n",
        "# a list of dictionary/Batch will automatically be concatenated/stacked, providing convenience if you\n",
        "# want to use parallelized environments to collect data.\n",
        "print(\"========================================\")\n",
        "batch4 = Batch([data] * 3)\n",
        "print(batch4)\n",
        "print(batch4.obs.rgb_obs.shape)"
      ],
      "metadata": {
        "colab": {
          "base_uri": "https://localhost:8080/"
        },
        "id": "Jl3-4BRbp3MM",
        "outputId": "a8b225f6-2893-4716-c694-3c2ff558b7f0"
      },
      "execution_count": null,
      "outputs": [
        {
          "output_type": "stream",
          "name": "stdout",
          "text": [
            "========================================\n",
            "Batch(\n",
            "    a: array([4, 4]),\n",
            "    b: array([5, 5]),\n",
            ")\n",
            "========================================\n",
            "Batch(\n",
            "    a: array([4, 4]),\n",
            "    b: array([5, 5]),\n",
            ")\n",
            "========================================\n",
            "Batch(\n",
            "    action: array([1., 2., 3.]),\n",
            "    reward: array(3.66),\n",
            "    obs: Batch(\n",
            "             rgb_obs: array([[0., 0., 0.],\n",
            "                             [0., 0., 0.],\n",
            "                             [0., 0., 0.]]),\n",
            "             flatten_obs: array([1., 1., 1., 1., 1.]),\n",
            "         ),\n",
            "    extra: 'extra_string',\n",
            ")\n",
            "<class 'tianshou.data.batch.Batch'>\n",
            "[[0. 0. 0.]\n",
            " [0. 0. 0.]\n",
            " [0. 0. 0.]]\n",
            "========================================\n",
            "Batch(\n",
            "    obs: Batch(\n",
            "             rgb_obs: array([[[0., 0., 0.],\n",
            "                              [0., 0., 0.],\n",
            "                              [0., 0., 0.]],\n",
            "                      \n",
            "                             [[0., 0., 0.],\n",
            "                              [0., 0., 0.],\n",
            "                              [0., 0., 0.]],\n",
            "                      \n",
            "                             [[0., 0., 0.],\n",
            "                              [0., 0., 0.],\n",
            "                              [0., 0., 0.]]]),\n",
            "             flatten_obs: array([[1., 1., 1., 1., 1.],\n",
            "                                 [1., 1., 1., 1., 1.],\n",
            "                                 [1., 1., 1., 1., 1.]]),\n",
            "         ),\n",
            "    reward: array([3.66, 3.66, 3.66]),\n",
            "    action: array([[1., 2., 3.],\n",
            "                   [1., 2., 3.],\n",
            "                   [1., 2., 3.]]),\n",
            ")\n",
            "(3, 3, 3)\n"
          ]
        }
      ]
    },
    {
      "cell_type": "markdown",
      "source": [
        "## Getting access to data\n",
        "You can conveniently search or change the key-value pair in the Batch just as if it is a python dictionary."
      ],
      "metadata": {
        "id": "JCf6bqY3uf5L"
      }
    },
    {
      "cell_type": "code",
      "source": [
        "batch1 = Batch({'a': [4, 4], 'b': (5, 5)})\n",
        "print(batch1)\n",
        "# add or delete key-value pair in batch1\n",
        "print(\"========================================\")\n",
        "batch1.c = Batch(c1=np.arange(3), c2=False)\n",
        "del batch1.a\n",
        "print(batch1)\n",
        "\n",
        "# access value by key\n",
        "print(\"========================================\")\n",
        "assert batch1[\"c\"] is batch1.c\n",
        "print(\"c\" in batch1)\n",
        "\n",
        "# traverse the Batch\n",
        "print(\"========================================\")\n",
        "for key, value in batch1.items():\n",
        "  print(str(key) + \": \" + str(value))"
      ],
      "metadata": {
        "colab": {
          "base_uri": "https://localhost:8080/"
        },
        "id": "2TNIY90-vU9b",
        "outputId": "de52ffe9-03c2-45f2-d95a-4071132daa4a"
      },
      "execution_count": null,
      "outputs": [
        {
          "output_type": "stream",
          "name": "stdout",
          "text": [
            "Batch(\n",
            "    a: array([4, 4]),\n",
            "    b: array([5, 5]),\n",
            ")\n",
            "========================================\n",
            "Batch(\n",
            "    b: array([5, 5]),\n",
            "    c: Batch(\n",
            "           c1: array([0, 1, 2]),\n",
            "           c2: array(False),\n",
            "       ),\n",
            ")\n",
            "========================================\n",
            "True\n",
            "========================================\n",
            "b: [5 5]\n",
            "c: Batch(\n",
            "    c1: array([0, 1, 2]),\n",
            "    c2: array(False),\n",
            ")\n"
          ]
        }
      ]
    },
    {
      "cell_type": "markdown",
      "source": [
        "## Indexing and Slicing\n",
        "If all values in Batch share the same shape in certain dimensions. Batch can support advanced indexing and slicing just like a normal numpy array."
      ],
      "metadata": {
        "id": "bVywStbV9jD2"
      }
    },
    {
      "cell_type": "code",
      "source": [
        "# Let us suppose we've got 4 environments, each returns a step of data\n",
        "step_datas = [\n",
        "        {\n",
        "            \"act\": np.random.randint(10),\n",
        "            \"rew\": 0.0,\n",
        "            \"obs\": np.ones((3, 3)),\n",
        "            \"info\": {\"done\": np.random.choice(2), \"failed\": False},\n",
        "         } for _ in range(4)\n",
        "        ]\n",
        "batch = Batch(step_datas)\n",
        "print(batch)\n",
        "print(batch.shape)\n",
        "\n",
        "# advanced indexing is supported, if we only want to select data in a given set of environments\n",
        "print(\"========================================\")\n",
        "print(batch[0])\n",
        "print(batch[[0,3]])\n",
        "\n",
        "# slicing is also supported\n",
        "print(\"========================================\")\n",
        "print(batch[-2:])\n",
        "\n"
      ],
      "metadata": {
        "colab": {
          "base_uri": "https://localhost:8080/"
        },
        "id": "gKza3OJnzc_D",
        "outputId": "4f240bfe-4a69-4c1b-b40e-983c5c4d0cbc"
      },
      "execution_count": null,
      "outputs": [
        {
          "output_type": "stream",
          "name": "stdout",
          "text": [
            "Batch(\n",
            "    obs: array([[[1., 1., 1.],\n",
            "                 [1., 1., 1.],\n",
            "                 [1., 1., 1.]],\n",
            "         \n",
            "                [[1., 1., 1.],\n",
            "                 [1., 1., 1.],\n",
            "                 [1., 1., 1.]],\n",
            "         \n",
            "                [[1., 1., 1.],\n",
            "                 [1., 1., 1.],\n",
            "                 [1., 1., 1.]],\n",
            "         \n",
            "                [[1., 1., 1.],\n",
            "                 [1., 1., 1.],\n",
            "                 [1., 1., 1.]]]),\n",
            "    rew: array([0., 0., 0., 0.]),\n",
            "    info: Batch(\n",
            "              done: array([0, 1, 1, 0]),\n",
            "              failed: array([False, False, False, False]),\n",
            "          ),\n",
            "    act: array([0, 5, 1, 8]),\n",
            ")\n",
            "[4]\n",
            "========================================\n",
            "Batch(\n",
            "    obs: array([[1., 1., 1.],\n",
            "                [1., 1., 1.],\n",
            "                [1., 1., 1.]]),\n",
            "    rew: 0.0,\n",
            "    info: Batch(\n",
            "              done: 0,\n",
            "              failed: False,\n",
            "          ),\n",
            "    act: 0,\n",
            ")\n",
            "Batch(\n",
            "    obs: array([[[1., 1., 1.],\n",
            "                 [1., 1., 1.],\n",
            "                 [1., 1., 1.]],\n",
            "         \n",
            "                [[1., 1., 1.],\n",
            "                 [1., 1., 1.],\n",
            "                 [1., 1., 1.]]]),\n",
            "    rew: array([0., 0.]),\n",
            "    info: Batch(\n",
            "              done: array([0, 0]),\n",
            "              failed: array([False, False]),\n",
            "          ),\n",
            "    act: array([0, 8]),\n",
            ")\n",
            "========================================\n",
            "Batch(\n",
            "    obs: array([[[1., 1., 1.],\n",
            "                 [1., 1., 1.],\n",
            "                 [1., 1., 1.]],\n",
            "         \n",
            "                [[1., 1., 1.],\n",
            "                 [1., 1., 1.],\n",
            "                 [1., 1., 1.]]]),\n",
            "    rew: array([0., 0.]),\n",
            "    info: Batch(\n",
            "              done: array([1, 0]),\n",
            "              failed: array([False, False]),\n",
            "          ),\n",
            "    act: array([1, 8]),\n",
            ")\n"
          ]
        }
      ]
    },
    {
      "cell_type": "markdown",
      "source": [
        "## Aggregation and Splitting\n"
      ],
      "metadata": {
        "id": "C7N9kU_Q9jXm"
      }
    },
    {
      "cell_type": "markdown",
      "source": [
        "Again, just like a numpy array. Play the example code below."
      ],
      "metadata": {
        "id": "1vUwQ-Hw9jtu"
      }
    },
    {
      "cell_type": "code",
      "source": [
        "# concat batches with compatible keys\n",
        "# try incompatible keys yourself if you feel curious\n",
        "print(\"========================================\")\n",
        "b1 = Batch(a=[{'b': np.float64(1.0), 'd': Batch(e=np.array(3.0))}])\n",
        "b2 = Batch(a=[{'b': np.float64(4.0), 'd': {'e': np.array(6.0)}}])\n",
        "b12_cat_out = Batch.cat([b1, b2])\n",
        "print(b1)\n",
        "print(b2)\n",
        "print(b12_cat_out)\n",
        "\n",
        "# stack batches with compatible keys\n",
        "# try incompatible keys yourself if you feel curious\n",
        "print(\"========================================\")\n",
        "b3 = Batch(a=np.zeros((3, 2)), b=np.ones((2, 3)), c=Batch(d=[[1], [2]]))\n",
        "b4 = Batch(a=np.ones((3, 2)), b=np.ones((2, 3)), c=Batch(d=[[0], [3]]))\n",
        "b34_stack = Batch.stack((b3, b4), axis=1)\n",
        "print(b3)\n",
        "print(b4)\n",
        "print(b34_stack)\n",
        "\n",
        "# split the batch into small batches of size 1, breaking the order of the data\n",
        "print(\"========================================\")\n",
        "print(type(b34_stack.split(1)))\n",
        "print(list(b34_stack.split(1, shuffle=True)))"
      ],
      "metadata": {
        "colab": {
          "base_uri": "https://localhost:8080/"
        },
        "id": "f5UkReyn3_kb",
        "outputId": "e7bb3324-7f20-4810-a328-479117efca55"
      },
      "execution_count": null,
      "outputs": [
        {
          "output_type": "stream",
          "name": "stdout",
          "text": [
            "========================================\n",
            "Batch(\n",
            "    a: Batch(\n",
            "           d: Batch(\n",
            "                  e: array([3.]),\n",
            "              ),\n",
            "           b: array([1.]),\n",
            "       ),\n",
            ")\n",
            "Batch(\n",
            "    a: Batch(\n",
            "           d: Batch(\n",
            "                  e: array([6.]),\n",
            "              ),\n",
            "           b: array([4.]),\n",
            "       ),\n",
            ")\n",
            "Batch(\n",
            "    a: Batch(\n",
            "           d: Batch(\n",
            "                  e: array([3., 6.]),\n",
            "              ),\n",
            "           b: array([1., 4.]),\n",
            "       ),\n",
            ")\n",
            "========================================\n",
            "Batch(\n",
            "    a: array([[0., 0.],\n",
            "              [0., 0.],\n",
            "              [0., 0.]]),\n",
            "    b: array([[1., 1., 1.],\n",
            "              [1., 1., 1.]]),\n",
            "    c: Batch(\n",
            "           d: array([[1],\n",
            "                     [2]]),\n",
            "       ),\n",
            ")\n",
            "Batch(\n",
            "    a: array([[1., 1.],\n",
            "              [1., 1.],\n",
            "              [1., 1.]]),\n",
            "    b: array([[1., 1., 1.],\n",
            "              [1., 1., 1.]]),\n",
            "    c: Batch(\n",
            "           d: array([[0],\n",
            "                     [3]]),\n",
            "       ),\n",
            ")\n",
            "Batch(\n",
            "    c: Batch(\n",
            "           d: array([[[1],\n",
            "                      [0]],\n",
            "              \n",
            "                     [[2],\n",
            "                      [3]]]),\n",
            "       ),\n",
            "    a: array([[[0., 0.],\n",
            "               [1., 1.]],\n",
            "       \n",
            "              [[0., 0.],\n",
            "               [1., 1.]],\n",
            "       \n",
            "              [[0., 0.],\n",
            "               [1., 1.]]]),\n",
            "    b: array([[[1., 1., 1.],\n",
            "               [1., 1., 1.]],\n",
            "       \n",
            "              [[1., 1., 1.],\n",
            "               [1., 1., 1.]]]),\n",
            ")\n",
            "========================================\n",
            "<class 'generator'>\n",
            "[Batch(\n",
            "    c: Batch(\n",
            "           d: array([[[1],\n",
            "                      [0]]]),\n",
            "       ),\n",
            "    a: array([[[0., 0.],\n",
            "               [1., 1.]]]),\n",
            "    b: array([[[1., 1., 1.],\n",
            "               [1., 1., 1.]]]),\n",
            "), Batch(\n",
            "    c: Batch(\n",
            "           d: array([[[2],\n",
            "                      [3]]]),\n",
            "       ),\n",
            "    a: array([[[0., 0.],\n",
            "               [1., 1.]]]),\n",
            "    b: array([[[1., 1., 1.],\n",
            "               [1., 1., 1.]]]),\n",
            ")]\n"
          ]
        }
      ]
    },
    {
      "cell_type": "markdown",
      "source": [
        "## Data type converting\n",
        "Besides numpy array, Batch actually also supports Torch Tensor. The usages are exactly the same. Cool, isn't it?"
      ],
      "metadata": {
        "id": "Smc_W1Cx6zRS"
      }
    },
    {
      "cell_type": "code",
      "source": [
        "import torch\n",
        "batch1 = Batch(a=np.arange(2), b=torch.zeros((2,2)))\n",
        "batch2 = Batch(a=np.arange(2), b=torch.ones((2,2)))\n",
        "batch_cat = Batch.cat([batch1, batch2, batch1])\n",
        "print(batch_cat)"
      ],
      "metadata": {
        "colab": {
          "base_uri": "https://localhost:8080/"
        },
        "id": "Y6im_Mtb7Ody",
        "outputId": "898e82c4-b940-4c35-a0f9-dedc4a9bc500"
      },
      "execution_count": null,
      "outputs": [
        {
          "output_type": "stream",
          "name": "stdout",
          "text": [
            "Batch(\n",
            "    a: array([0, 1, 0, 1, 0, 1]),\n",
            "    b: tensor([[0., 0.],\n",
            "               [0., 0.],\n",
            "               [1., 1.],\n",
            "               [1., 1.],\n",
            "               [0., 0.],\n",
            "               [0., 0.]]),\n",
            ")\n"
          ]
        }
      ]
    },
    {
      "cell_type": "markdown",
      "source": [
        "You can convert the data type easily, if you no longer want to use hybrid data type anymore."
      ],
      "metadata": {
        "id": "1wfTUVKb6xki"
      }
    },
    {
      "cell_type": "code",
      "source": [
        "batch_cat.to_numpy()\n",
        "print(batch_cat)\n",
        "batch_cat.to_torch()\n",
        "print(batch_cat)"
      ],
      "metadata": {
        "colab": {
          "base_uri": "https://localhost:8080/"
        },
        "id": "F7WknVs98DHD",
        "outputId": "cfd0712a-1df3-4208-e6cc-9149840bdc40"
      },
      "execution_count": null,
      "outputs": [
        {
          "output_type": "stream",
          "name": "stdout",
          "text": [
            "Batch(\n",
            "    a: array([0, 1, 0, 1, 0, 1]),\n",
            "    b: array([[0., 0.],\n",
            "              [0., 0.],\n",
            "              [1., 1.],\n",
            "              [1., 1.],\n",
            "              [0., 0.],\n",
            "              [0., 0.]], dtype=float32),\n",
            ")\n",
            "Batch(\n",
            "    a: tensor([0, 1, 0, 1, 0, 1]),\n",
            "    b: tensor([[0., 0.],\n",
            "               [0., 0.],\n",
            "               [1., 1.],\n",
            "               [1., 1.],\n",
            "               [0., 0.],\n",
            "               [0., 0.]]),\n",
            ")\n"
          ]
        }
      ]
    },
    {
      "cell_type": "markdown",
      "source": [
        "Batch is even serializable, just in case you may need to save it to disk or restore it."
      ],
      "metadata": {
        "id": "NTFVle1-9Biz"
      }
    },
    {
      "cell_type": "code",
      "source": [
        "import pickle\n",
        "batch = Batch(obs=Batch(a=0.0, c=torch.Tensor([1.0, 2.0])), np=np.zeros([3, 4]))\n",
        "batch_pk = pickle.loads(pickle.dumps(batch))\n",
        "print(batch_pk)"
      ],
      "metadata": {
        "colab": {
          "base_uri": "https://localhost:8080/"
        },
        "id": "Lnf17OXv9YRb",
        "outputId": "753753f2-3f66-4d4b-b4ff-d57f9c40d1da"
      },
      "execution_count": null,
      "outputs": [
        {
          "output_type": "stream",
          "name": "stdout",
          "text": [
            "Batch(\n",
            "    obs: Batch(\n",
            "             a: array(0.),\n",
            "             c: tensor([1., 2.]),\n",
            "         ),\n",
            "    np: array([[0., 0., 0., 0.],\n",
            "               [0., 0., 0., 0.],\n",
            "               [0., 0., 0., 0.]]),\n",
            ")\n"
          ]
        }
      ]
    },
    {
      "cell_type": "markdown",
      "source": [
        "# Further Reading"
      ],
      "metadata": {
        "id": "-vPMiPZ-9kJN"
      }
    },
    {
      "cell_type": "markdown",
      "source": [
        "Would like to learn more advanced usages of Batch? Feel curious about how data is organised inside the Batch? Check the [documentation](https://tianshou.readthedocs.io/en/master/api/tianshou.data.html) and other [tutorials](https://tianshou.readthedocs.io/en/master/tutorials/batch.html#) for more details."
      ],
      "metadata": {
        "id": "8Oc1p8ud9kcu"
      }
    }
  ]
}