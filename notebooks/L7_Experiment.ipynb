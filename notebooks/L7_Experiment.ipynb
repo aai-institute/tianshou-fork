{
  "nbformat": 4,
  "nbformat_minor": 0,
  "metadata": {
    "colab": {
      "provenance": [],
      "toc_visible": true
    },
    "kernelspec": {
      "name": "python3",
      "display_name": "Python 3"
    },
    "language_info": {
      "name": "python"
    }
  },
  "cells": [
    {
      "cell_type": "markdown",
      "source": [
        "# Overview\n",
        "Finally, we can assemble building blocks that we have came across in previous tutorials to conduct our first DRL experiment. In this experiment, we will use [PPO](https://arxiv.org/abs/1707.06347) algorithm to solve the classic CartPole task in Gym."
      ],
      "metadata": {
        "id": "_UaXOSRjDUF9"
      }
    },
    {
      "cell_type": "markdown",
      "source": [
        "# Experiment\n",
        "To conduct this experiment, we need the following building blocks.\n",
        "\n",
        "\n",
        "*   Two vectorized environments, one for training and one for evaluation\n",
        "*   A PPO agent\n",
        "*   A replay buffer to store transition data\n",
        "*   Two collectors to manage the data collecting process, one for training and one for evaluation\n",
        "*   A trainer to manage the training loop\n",
        "\n",
        "<div align=center>\n",
        "<img src=\"https://tianshou.readthedocs.io/en/master/_images/pipeline.png\", width=500>\n",
        "\n",
        "</div>\n",
        "\n",
        "Let us do this step by step."
      ],
      "metadata": {
        "id": "2QRbCJvDHNAd"
      }
    },
    {
      "cell_type": "markdown",
      "source": [
        "## Preparation\n",
        "Firstly, install Tianshou if you haven't installed it before."
      ],
      "metadata": {
        "id": "-Hh4E6i0Hj0I"
      }
    },
    {
      "cell_type": "code",
      "source": [
        "!pip install tianshou==0.4.8\n",
        "!pip install gym"
      ],
      "metadata": {
        "id": "w50BVwaRHg3N"
      },
      "execution_count": null,
      "outputs": []
    },
    {
      "cell_type": "markdown",
      "source": [
        "Import libraries we might need later."
      ],
      "metadata": {
        "id": "7E4EhiBeHxD5"
      }
    },
    {
      "cell_type": "code",
      "source": [
        "import gym\n",
        "import numpy as np\n",
        "import torch\n",
        "\n",
        "from tianshou.data import Collector, VectorReplayBuffer\n",
        "from tianshou.env import DummyVectorEnv\n",
        "from tianshou.policy import PPOPolicy\n",
        "from tianshou.trainer import onpolicy_trainer\n",
        "from tianshou.utils.net.common import ActorCritic, Net\n",
        "from tianshou.utils.net.discrete import Actor, Critic\n",
        "\n",
        "import warnings\n",
        "warnings.filterwarnings('ignore')\n",
        "\n",
        "device = 'cuda' if torch.cuda.is_available() else 'cpu'"
      ],
      "metadata": {
        "id": "ao9gWJDiHgG-"
      },
      "execution_count": null,
      "outputs": []
    },
    {
      "cell_type": "markdown",
      "source": [
        "## Environment"
      ],
      "metadata": {
        "id": "QnRg5y7THRYw"
      }
    },
    {
      "cell_type": "markdown",
      "source": [
        "We create two vectorized environments both for training and testing. Since the execution time of CartPole is extremely short, there is no need to use multi-process wrappers and we simply use DummyVectorEnv."
      ],
      "metadata": {
        "id": "YZERKCGtH8W1"
      }
    },
    {
      "cell_type": "code",
      "execution_count": null,
      "metadata": {
        "id": "Mpuj5PFnDKVS"
      },
      "outputs": [],
      "source": [
        "env = gym.make('CartPole-v0')\n",
        "train_envs = DummyVectorEnv([lambda: gym.make('CartPole-v0') for _ in range(20)])\n",
        "test_envs = DummyVectorEnv([lambda: gym.make('CartPole-v0') for _ in range(10)])"
      ]
    },
    {
      "cell_type": "markdown",
      "source": [
        "## Policy\n",
        "Next we need to initialise our PPO policy. PPO is an actor-critic-style on-policy algorithm, so we have to define the actor and the critic in PPO first.\n",
        "\n",
        "The actor is a neural network that shares the same network head with the critic. Both networks' input is the environment observation. The output of the actor is the action and the output of the critic is a single value, representing the value of the current policy.\n",
        "\n",
        "Luckily, Tianshou already provides basic network modules that we can use in this experiment."
      ],
      "metadata": {
        "id": "BJtt_Ya8DTAh"
      }
    },
    {
      "cell_type": "code",
      "source": [
        "# net is the shared head of the actor and the critic\n",
        "net = Net(env.observation_space.shape, hidden_sizes=[64, 64], device=device)\n",
        "actor = Actor(net, env.action_space.n, device=device).to(device)\n",
        "critic = Critic(net, device=device).to(device)\n",
        "actor_critic = ActorCritic(actor, critic)\n",
        "\n",
        "# optimizer of the actor and the critic\n",
        "optim = torch.optim.Adam(actor_critic.parameters(), lr=0.0003)"
      ],
      "metadata": {
        "id": "_Vy8uPWXP4m_"
      },
      "execution_count": null,
      "outputs": []
    },
    {
      "cell_type": "markdown",
      "source": [
        "Once we have defined the actor, the critic and the optimizer. We can use them to construct our PPO agent. CartPole is a discrete action space problem, so the distribution of our action space can be a categorical distribution."
      ],
      "metadata": {
        "id": "Lh2-hwE5Dn9I"
      }
    },
    {
      "cell_type": "code",
      "source": [
        "dist = torch.distributions.Categorical\n",
        "policy = PPOPolicy(actor, critic, optim, dist, action_space=env.action_space, deterministic_eval=True)"
      ],
      "metadata": {
        "id": "OiJ2GkT0Qnbr"
      },
      "execution_count": null,
      "outputs": []
    },
    {
      "cell_type": "markdown",
      "source": [
        "`deterministic_eval=True` means that we want to sample actions during training but we would like to always use the best action in evaluation. No randomness included."
      ],
      "metadata": {
        "id": "okxfj6IEQ-r8"
      }
    },
    {
      "cell_type": "markdown",
      "source": [
        "## Collector\n",
        "We can set up the collectors now. Train collector is used to collect and store training data, so an additional replay buffer has to be passed in."
      ],
      "metadata": {
        "id": "n5XAAbuBZarO"
      }
    },
    {
      "cell_type": "code",
      "source": [
        "train_collector = Collector(policy, train_envs, VectorReplayBuffer(20000, len(train_envs)))\n",
        "test_collector = Collector(policy, test_envs)"
      ],
      "metadata": {
        "id": "ezwz0qerZhQM"
      },
      "execution_count": null,
      "outputs": []
    },
    {
      "cell_type": "markdown",
      "source": [
        "We use `VectorReplayBuffer` here because it's more efficient to collaborate with vectorized environments, you can simply consider `VectorReplayBuffer` as a a list of ordinary replay buffers."
      ],
      "metadata": {
        "id": "ZaoPxOd2hm0b"
      }
    },
    {
      "cell_type": "markdown",
      "source": [
        "## Trainer\n",
        "Finally, we can use the trainer to help us set up the training loop."
      ],
      "metadata": {
        "id": "qBoE9pLUiC-8"
      }
    },
    {
      "cell_type": "code",
      "source": [
        "result = onpolicy_trainer(\n",
        "    policy,\n",
        "    train_collector,\n",
        "    test_collector,\n",
        "    max_epoch=10,\n",
        "    step_per_epoch=50000,\n",
        "    repeat_per_collect=10,\n",
        "    episode_per_test=10,\n",
        "    batch_size=256,\n",
        "    step_per_collect=2000,\n",
        "    stop_fn=lambda mean_reward: mean_reward >= 195,\n",
        ")"
      ],
      "metadata": {
        "id": "i45EDnpxQ8gu",
        "colab": {
          "base_uri": "https://localhost:8080/"
        },
        "outputId": "b1666b88-0bfa-4340-868e-58611872d988"
      },
      "execution_count": null,
      "outputs": [
        {
          "output_type": "stream",
          "name": "stderr",
          "text": [
            "Epoch #1: 50001it [00:13, 3601.81it/s, env_step=50000, len=143, loss=41.162, loss/clip=0.001, loss/ent=0.583, loss/vf=82.332, n/ep=12, n/st=2000, rew=143.08]                           \n"
          ]
        },
        {
          "output_type": "stream",
          "name": "stdout",
          "text": [
            "Epoch #1: test_reward: 200.000000 ± 0.000000, best_reward: 200.000000 ± 0.000000 in #1\n"
          ]
        }
      ]
    },
    {
      "cell_type": "markdown",
      "source": [
        "## Results\n",
        "Print the training result."
      ],
      "metadata": {
        "id": "ckgINHE2iTFR"
      }
    },
    {
      "cell_type": "code",
      "source": [
        "print(result)"
      ],
      "metadata": {
        "colab": {
          "base_uri": "https://localhost:8080/"
        },
        "id": "tJCPgmiyiaaX",
        "outputId": "40123ae3-3365-4782-9563-46c43812f10f"
      },
      "execution_count": null,
      "outputs": [
        {
          "output_type": "stream",
          "name": "stdout",
          "text": [
            "{'duration': '14.17s', 'train_time/model': '8.80s', 'test_step': 2094, 'test_episode': 20, 'test_time': '0.27s', 'test_speed': '7770.16 step/s', 'best_reward': 200.0, 'best_result': '200.00 ± 0.00', 'train_step': 50000, 'train_episode': 942, 'train_time/collector': '5.10s', 'train_speed': '3597.32 step/s'}\n"
          ]
        }
      ]
    },
    {
      "cell_type": "markdown",
      "source": [
        "We can also test our trained agent."
      ],
      "metadata": {
        "id": "A-MJ9avMibxN"
      }
    },
    {
      "cell_type": "code",
      "source": [
        "# Let's watch its performance!\n",
        "policy.eval()\n",
        "result = test_collector.collect(n_episode=1, render=False)\n",
        "print(\"Final reward: {}, length: {}\".format(result[\"rews\"].mean(), result[\"lens\"].mean()))"
      ],
      "metadata": {
        "colab": {
          "base_uri": "https://localhost:8080/"
        },
        "id": "mnMANFcciiAQ",
        "outputId": "6febcc1e-7265-4a75-c9dd-34e29a3e5d21"
      },
      "execution_count": null,
      "outputs": [
        {
          "output_type": "stream",
          "name": "stdout",
          "text": [
            "Final reward: 200.0, length: 200.0\n"
          ]
        }
      ]
    }
  ]
}