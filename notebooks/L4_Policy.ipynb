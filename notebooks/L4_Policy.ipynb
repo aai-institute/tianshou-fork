{
 "cells": [
  {
   "cell_type": "markdown",
   "metadata": {
    "id": "PNM9wqstBSY_"
   },
   "source": [
    "# Policy\n",
    "In reinforcement learning, the agent interacts with environments to improve itself. In this tutorial we will concentrate on the agent part. In Tianshou, both the agent and the core DRL algorithm are implementated in the Policy module. Tianshou provides more than 20 Policy modules, each representing one DRL algorithm. See supported algorithms [here](https://github.com/thu-ml/tianshou).\n",
    "\n",
    "<div align=center>\n",
    "<img src=\"https://tianshou.readthedocs.io/en/master/_images/rl-loop.jpg\", title=\"The agents interacting with the environment\">\n",
    "\n",
    "<a> The agents interacting with the environment </a>\n",
    "</div>\n",
    "\n",
    "All Policy modules inherit from a BasePolicy Class and share the same interface."
   ]
  },
  {
   "cell_type": "markdown",
   "metadata": {
    "id": "ZqdHYdoJJS51"
   },
   "source": [
    "# Creating your own Policy\n",
    "We will use the simple REINFORCE algorithm Policy to show the implementation of a Policy Module. The Policy we implement here will be a highly scaled-down version of [PGPolicy](https://github.com/thu-ml/tianshou/blob/master/tianshou/policy/modelfree/pg.py) in Tianshou."
   ]
  },
  {
   "cell_type": "markdown",
   "metadata": {
    "id": "PWFBgZ4TJkfz"
   },
   "source": [
    "## Initialisation\n",
    "Firstly we create the `REINFORCEPolicy` by inheriting from `BasePolicy` in Tianshou."
   ]
  },
  {
   "cell_type": "code",
   "execution_count": null,
   "metadata": {
    "editable": true,
    "id": "cDlSjASbJmy-",
    "slideshow": {
     "slide_type": ""
    },
    "tags": [
     "hide-cell",
     "remove-output"
    ]
   },
   "outputs": [],
   "source": [
    "from typing import Dict, List\n",
    "\n",
    "import numpy as np\n",
    "import torch\n",
    "import gymnasium as gym\n",
    "\n",
    "from tianshou.data import Batch, ReplayBuffer, to_torch, to_torch_as\n",
    "from tianshou.policy import BasePolicy\n",
    "from tianshou.utils.net.common import Net\n",
    "from tianshou.utils.net.discrete import Actor"
   ]
  },
  {
   "cell_type": "code",
   "execution_count": null,
   "metadata": {},
   "outputs": [],
   "source": [
    "class REINFORCEPolicy(BasePolicy):\n",
    "    \"\"\"Implementation of REINFORCE algorithm.\"\"\"\n",
    "\n",
    "    def __init__(self):\n",
    "        super().__init__(action_space=action_space)"
   ]
  },
  {
   "cell_type": "markdown",
   "metadata": {
    "id": "qc1RnIBbLCDN"
   },
   "source": [
    "As we have mentioned, the Policy Module mainly does two things:\n",
    "\n",
    "\n",
    "1.   `policy.forward()` receives observation and other information (stored in a Batch) from the environment and returns a new Batch containing the action.\n",
    "2.   `policy.update()` receives training data sampled from the replay buffer and updates itself, and then returns logging details.\n",
    "\n",
    "\n",
    "<div align=center>\n",
    "<img src=\"https://tianshou.readthedocs.io/en/master/_images/pipeline.png\" width=\"400\">\n",
    "\n",
    "<a> policy.forward() and policy.update() </a>\n",
    "</div>\n",
    "\n",
    "We also need to take care of the following things:\n",
    "\n",
    "\n",
    "\n",
    "1.   Since Tianshou is a **Deep** RL libraries, there should be a policy network in our Policy Module, also a Torch optimizer.\n",
    "2.   In Tianshou's BasePolicy, `Policy.update()` first calls `Policy.process_fn()` to preprocess training data and computes quantities like episodic returns (gradient free), then it will call `Policy.learn()` to perform the back-propagation.\n",
    "\n",
    "Then we get the implementation below.\n",
    "\n",
    "\n",
    "\n"
   ]
  },
  {
   "cell_type": "code",
   "execution_count": null,
   "metadata": {
    "id": "6j32PSKUQ23w"
   },
   "outputs": [],
   "source": [
    "class REINFORCEPolicy(BasePolicy):\n",
    "    \"\"\"Implementation of REINFORCE algorithm.\"\"\"\n",
    "\n",
    "    def __init__(\n",
    "        self, model: torch.nn.Module, optim: torch.optim.Optimizer, action_space: gym.Space\n",
    "    ):\n",
    "        super().__init__(action_space=action_space)\n",
    "        self.actor = model\n",
    "        self.optim = optim\n",
    "\n",
    "    def forward(self, batch: Batch) -> Batch:\n",
    "        \"\"\"Compute action over the given batch data.\"\"\"\n",
    "        act = None\n",
    "        return Batch(act=act)\n",
    "\n",
    "    def process_fn(self, batch: Batch, buffer: ReplayBuffer, indices: np.ndarray) -> Batch:\n",
    "        \"\"\"Compute the discounted returns for each transition.\"\"\"\n",
    "        pass\n",
    "\n",
    "    def learn(self, batch: Batch, batch_size: int, repeat: int) -> Dict[str, List[float]]:\n",
    "        \"\"\"Perform the back-propagation.\"\"\"\n",
    "        return"
   ]
  },
  {
   "cell_type": "markdown",
   "metadata": {
    "id": "tjtqjt8WRY5e"
   },
   "source": [
    "## Policy.forward()\n",
    "According to the equation of REINFORCE algorithm in Spinning Up's [documentation](https://spinningup.openai.com/en/latest/algorithms/vpg.html), we need to map the observation to an action distribution in action space using neural network (`self.actor`).\n",
    "\n",
    "<div align=center>\n",
    "<img src=\"https://spinningup.openai.com/en/latest/_images/math/3d29a18c0f98b1cdb656ecdf261ee37ffe8bb74b.svg\" width=\"400\">\n",
    "</div>\n",
    "\n",
    "Let us suppose the action space is discrete, and the distribution is a simple categorical distribution.\n",
    "\n"
   ]
  },
  {
   "cell_type": "code",
   "execution_count": null,
   "metadata": {
    "id": "uE4YDE-_RwgN"
   },
   "outputs": [],
   "source": [
    "def forward(self, batch: Batch) -> Batch:\n",
    "    \"\"\"Compute action over the given batch data.\"\"\"\n",
    "    self.dist_fn = torch.distributions.Categorical\n",
    "    logits = self.actor(batch.obs)\n",
    "    dist = self.dist_fn(logits)\n",
    "    act = dist.sample()\n",
    "    return Batch(act=act, dist=dist)"
   ]
  },
  {
   "cell_type": "markdown",
   "metadata": {
    "id": "CultfOeuTx2V"
   },
   "source": [
    "## Policy.process_fn()\n",
    "Now that we have defined our actor, if given training data we can set up a loss function and optimize our neural network. However, before that, we must first calculate episodic returns for every step in our training data to construct the REINFORCE loss function.\n",
    "\n",
    "Calculating episodic return is not hard, given `ReplayBuffer.next()` allows us to access every reward to go in an episode. A more convenient way would be to simply use the built-in method `BasePolicy.compute_episodic_return()` inherited from BasePolicy.\n"
   ]
  },
  {
   "cell_type": "code",
   "execution_count": null,
   "metadata": {
    "id": "wPAmOD7zV7n2"
   },
   "outputs": [],
   "source": [
    "def process_fn(self, batch: Batch, buffer: ReplayBuffer, indices: np.ndarray) -> Batch:\n",
    "    \"\"\"Compute the discounted returns for each transition.\"\"\"\n",
    "    returns, _ = self.compute_episodic_return(batch, buffer, indices, gamma=0.99, gae_lambda=1.0)\n",
    "    batch.returns = returns\n",
    "    return batch"
   ]
  },
  {
   "cell_type": "markdown",
   "metadata": {
    "id": "XA8OF4GnWWr5"
   },
   "source": [
    "`BasePolicy.compute_episodic_return()` could also be used to compute [GAE](https://arxiv.org/abs/1506.02438). Another similar method is `BasePolicy.compute_nstep_return()`. Check the [source code](https://github.com/thu-ml/tianshou/blob/6fc68578127387522424460790cbcb32a2bd43c4/tianshou/policy/base.py#L304) for more details."
   ]
  },
  {
   "cell_type": "markdown",
   "metadata": {
    "id": "7UsdzNaOXPpC"
   },
   "source": [
    "## Policy.learn()\n",
    "Data batch returned by `Policy.process_fn()` will flow into `Policy.learn()`. Finall we can construct our loss function and perform the back-propagation."
   ]
  },
  {
   "cell_type": "code",
   "execution_count": null,
   "metadata": {
    "id": "aCO-dLXWXtz9"
   },
   "outputs": [],
   "source": [
    "def learn(self, batch: Batch, batch_size: int, repeat: int) -> Dict[str, List[float]]:\n",
    "    \"\"\"Perform the back-propagation.\"\"\"\n",
    "    logging_losses = []\n",
    "    for _ in range(repeat):\n",
    "        for minibatch in batch.split(batch_size, merge_last=True):\n",
    "            self.optim.zero_grad()\n",
    "            result = self(minibatch)\n",
    "            dist = result.dist\n",
    "            act = to_torch_as(minibatch.act, result.act)\n",
    "            ret = to_torch(minibatch.returns, torch.float, result.act.device)\n",
    "            log_prob = dist.log_prob(act).reshape(len(ret), -1).transpose(0, 1)\n",
    "            loss = -(log_prob * ret).mean()\n",
    "            loss.backward()\n",
    "            self.optim.step()\n",
    "            logging_losses.append(loss.item())\n",
    "    return {\"loss\": logging_losses}"
   ]
  },
  {
   "cell_type": "markdown",
   "metadata": {
    "id": "1BtuV2W0YJTi"
   },
   "source": [
    "## Implementation\n",
    "Finally we can assemble the implemented methods and form a REINFORCE Policy."
   ]
  },
  {
   "cell_type": "code",
   "execution_count": null,
   "metadata": {
    "id": "Ab0KNQHTOlGo"
   },
   "outputs": [],
   "source": [
    "class REINFORCEPolicy(BasePolicy):\n",
    "    \"\"\"Implementation of REINFORCE algorithm.\"\"\"\n",
    "\n",
    "    def __init__(\n",
    "        self,\n",
    "        *,\n",
    "        model: torch.nn.Module,\n",
    "        optim: torch.optim.Optimizer,\n",
    "        action_space: gym.Space,\n",
    "    ):\n",
    "        super().__init__(action_space=action_space)\n",
    "        self.actor = model\n",
    "        self.optim = optim\n",
    "        # action distribution\n",
    "        self.dist_fn = torch.distributions.Categorical\n",
    "\n",
    "    def forward(self, batch: Batch) -> Batch:\n",
    "        \"\"\"Compute action over the given batch data.\"\"\"\n",
    "        logits, _ = self.actor(batch.obs)\n",
    "        dist = self.dist_fn(logits)\n",
    "        act = dist.sample()\n",
    "        return Batch(act=act, dist=dist)\n",
    "\n",
    "    def process_fn(self, batch: Batch, buffer: ReplayBuffer, indices: np.ndarray) -> Batch:\n",
    "        \"\"\"Compute the discounted returns for each transition.\"\"\"\n",
    "        returns, _ = self.compute_episodic_return(\n",
    "            batch, buffer, indices, gamma=0.99, gae_lambda=1.0\n",
    "        )\n",
    "        batch.returns = returns\n",
    "        return batch\n",
    "\n",
    "    def learn(self, batch: Batch, batch_size: int, repeat: int) -> Dict[str, List[float]]:\n",
    "        \"\"\"Perform the back-propagation.\"\"\"\n",
    "        logging_losses = []\n",
    "        for _ in range(repeat):\n",
    "            for minibatch in batch.split(batch_size, merge_last=True):\n",
    "                self.optim.zero_grad()\n",
    "                result = self(minibatch)\n",
    "                dist = result.dist\n",
    "                act = to_torch_as(minibatch.act, result.act)\n",
    "                ret = to_torch(minibatch.returns, torch.float, result.act.device)\n",
    "                log_prob = dist.log_prob(act).reshape(len(ret), -1).transpose(0, 1)\n",
    "                loss = -(log_prob * ret).mean()\n",
    "                loss.backward()\n",
    "                self.optim.step()\n",
    "                logging_losses.append(loss.item())\n",
    "        return {\"loss\": logging_losses}"
   ]
  },
  {
   "cell_type": "markdown",
   "metadata": {
    "id": "xlPAbh0lKti8"
   },
   "source": [
    "# Use the policy\n",
    "Note that `BasePolicy` itself inherits from `torch.nn.Module`. As a result, you can consider all Policy modules as a Torch Module. They share similar APIs.\n",
    "\n",
    "Firstly we will initialise a new REINFORCE policy."
   ]
  },
  {
   "cell_type": "code",
   "execution_count": null,
   "metadata": {
    "id": "JkLFA9Z1KjuX"
   },
   "outputs": [],
   "source": [
    "state_shape = 4\n",
    "action_shape = 2\n",
    "# Usually taken from an env by using env.action_space\n",
    "action_space = gym.spaces.Box(low=-1, high=1, shape=(2,))\n",
    "net = Net(state_shape, hidden_sizes=[16, 16], device=\"cpu\")\n",
    "actor = Actor(net, action_shape, device=\"cpu\").to(\"cpu\")\n",
    "optim = torch.optim.Adam(actor.parameters(), lr=0.0003)\n",
    "\n",
    "policy = REINFORCEPolicy(model=actor, optim=optim, action_space=action_space)"
   ]
  },
  {
   "cell_type": "markdown",
   "metadata": {
    "id": "LAo_0t2fekUD"
   },
   "source": [
    "REINFORCE policy shares same APIs with the Torch Module."
   ]
  },
  {
   "cell_type": "code",
   "execution_count": null,
   "metadata": {
    "colab": {
     "base_uri": "https://localhost:8080/"
    },
    "id": "UiuTc8RhJiEi",
    "outputId": "9b5bc54c-6303-45f3-ba81-2216a44931e8"
   },
   "outputs": [],
   "source": [
    "print(policy)\n",
    "print(\"========================================\")\n",
    "for para in policy.parameters():\n",
    "    print(para.shape)"
   ]
  },
  {
   "cell_type": "markdown",
   "metadata": {
    "id": "-RCrsttYgAG-"
   },
   "source": [
    "## Making decision\n",
    "Given a batch of observations, the policy can return a batch of actions and other data."
   ]
  },
  {
   "cell_type": "code",
   "execution_count": null,
   "metadata": {
    "colab": {
     "base_uri": "https://localhost:8080/"
    },
    "id": "0jkBb6AAgUla",
    "outputId": "37948844-cdd8-4567-9481-89453c80a157"
   },
   "outputs": [],
   "source": [
    "obs_batch = Batch(obs=np.ones(shape=(256, 4)))\n",
    "action = policy(obs_batch)  # forward() method is called\n",
    "print(action)"
   ]
  },
  {
   "cell_type": "markdown",
   "metadata": {
    "id": "swikhnuDfKep"
   },
   "source": [
    "## Save and Load models\n",
    "Naturally, Tianshou Policy can be saved and loaded like a normal Torch Network."
   ]
  },
  {
   "cell_type": "code",
   "execution_count": null,
   "metadata": {
    "id": "tYOoWM_OJRnA"
   },
   "outputs": [],
   "source": [
    "torch.save(policy.state_dict(), \"policy.pth\")\n",
    "assert policy.load_state_dict(torch.load(\"policy.pth\"))"
   ]
  },
  {
   "cell_type": "markdown",
   "metadata": {
    "id": "gp8PzOYsg5z-"
   },
   "source": [
    "## Algorithm Updating\n",
    "We have to collect some data and save them in the ReplayBuffer before updating our agent(policy). Typically we use collector to collect data, but we leave this part till later when we have learned the Collector in Tianshou. For now we generate some **fake** data."
   ]
  },
  {
   "cell_type": "markdown",
   "metadata": {
    "id": "XrrPxOUAYShR"
   },
   "source": [
    "### Generating fake data\n",
    "Firstly, we need to \"pretend\" that we are using the \"Policy\" to collect data. We plan to collect 10 data so that we can update our algorithm."
   ]
  },
  {
   "cell_type": "code",
   "execution_count": null,
   "metadata": {
    "colab": {
     "base_uri": "https://localhost:8080/"
    },
    "id": "a14CmzSfYh5C",
    "outputId": "aaf45a1f-5e21-4bc8-cbe3-8ce798258af0"
   },
   "outputs": [],
   "source": [
    "# a buffer is initialised with its maxsize set to 20.\n",
    "print(\"========================================\")\n",
    "buf = ReplayBuffer(size=12)\n",
    "print(buf)\n",
    "print(\"maxsize: {}, data length: {}\".format(buf.maxsize, len(buf)))\n",
    "env = gym.make(\"CartPole-v1\")"
   ]
  },
  {
   "cell_type": "markdown",
   "metadata": {
    "id": "8S94cV7yZITR"
   },
   "source": [
    "Now we are pretending to collect the first episode. The first episode ends at step 3 (perhaps because we are performing too badly)."
   ]
  },
  {
   "cell_type": "code",
   "execution_count": null,
   "metadata": {
    "id": "a_mtvbmBZbfs"
   },
   "outputs": [],
   "source": [
    "obs, info = env.reset()\n",
    "for i in range(3):\n",
    "    act = policy(Batch(obs=obs[np.newaxis, :])).act.item()\n",
    "    obs_next, rew, _, truncated, info = env.step(act)\n",
    "    # pretend ending at step 3\n",
    "    terminated = True if i == 2 else False\n",
    "    info[\"id\"] = i\n",
    "    buf.add(\n",
    "        Batch(\n",
    "            obs=obs,\n",
    "            act=act,\n",
    "            rew=rew,\n",
    "            terminated=terminated,\n",
    "            truncated=truncated,\n",
    "            obs_next=obs_next,\n",
    "            info=info,\n",
    "        )\n",
    "    )\n",
    "    obs = obs_next"
   ]
  },
  {
   "cell_type": "code",
   "execution_count": null,
   "metadata": {},
   "outputs": [],
   "source": [
    "print(buf)"
   ]
  },
  {
   "cell_type": "markdown",
   "metadata": {
    "id": "pkxq4gu9bGkt"
   },
   "source": [
    "Now we are pretending to collect the second episode. At step 7 the second episode still does't end, but we are unwilling to wait, so we stop collecting to update the algorithm."
   ]
  },
  {
   "cell_type": "code",
   "execution_count": null,
   "metadata": {
    "id": "pAoKe02ybG68"
   },
   "outputs": [],
   "source": [
    "obs, info = env.reset()\n",
    "for i in range(3, 10):\n",
    "    act = policy(Batch(obs=obs[np.newaxis, :])).act.item()\n",
    "    obs_next, rew, _, truncated, info = env.step(act)\n",
    "    # pretend this episode never end\n",
    "    terminated = False\n",
    "    info[\"id\"] = i\n",
    "    buf.add(\n",
    "        Batch(\n",
    "            obs=obs,\n",
    "            act=act,\n",
    "            rew=rew,\n",
    "            terminated=terminated,\n",
    "            truncated=truncated,\n",
    "            obs_next=obs_next,\n",
    "            info=info,\n",
    "        )\n",
    "    )\n",
    "    obs = obs_next"
   ]
  },
  {
   "cell_type": "markdown",
   "metadata": {
    "id": "MKM6aWMucv-M"
   },
   "source": [
    "Our replay buffer looks like this now."
   ]
  },
  {
   "cell_type": "code",
   "execution_count": null,
   "metadata": {
    "colab": {
     "base_uri": "https://localhost:8080/"
    },
    "id": "CSJEEWOqXdTU",
    "outputId": "2b3bb75c-f219-4e82-ca78-0ea6173a91f9"
   },
   "outputs": [],
   "source": [
    "print(buf)\n",
    "print(\"maxsize: {}, data length: {}\".format(buf.maxsize, len(buf)))"
   ]
  },
  {
   "cell_type": "markdown",
   "metadata": {
    "id": "55VWhWpkdfEb"
   },
   "source": [
    "### Updates\n",
    "Now we have got a replay buffer with 10 data steps in it. We can call `Policy.update()` to train."
   ]
  },
  {
   "cell_type": "code",
   "execution_count": null,
   "metadata": {
    "colab": {
     "base_uri": "https://localhost:8080/"
    },
    "id": "i_O1lJDWdeoc",
    "outputId": "b154741a-d6dc-46cb-898f-6e84fa14e5a7"
   },
   "outputs": [],
   "source": [
    "# 0 means sample all data from the buffer\n",
    "# batch_size=10 defines the training batch size\n",
    "# repeat=6 means repeat the training for 6 times\n",
    "policy.update(0, buf, batch_size=10, repeat=6)"
   ]
  },
  {
   "cell_type": "markdown",
   "metadata": {
    "id": "enqlFQLSJrQl"
   },
   "source": [
    "Not that difficult, right?"
   ]
  },
  {
   "cell_type": "markdown",
   "metadata": {
    "id": "QJ5krjrcbuiA"
   },
   "source": [
    "# Further Reading\n",
    "\n",
    "\n"
   ]
  },
  {
   "cell_type": "markdown",
   "metadata": {
    "id": "pmWi3HuXWcV8"
   },
   "source": [
    "## Pre-defined Networks\n",
    "Tianshou provides numberous pre-defined networks usually used in DRL so that you don't have to bother yourself. Check this [documentation](https://tianshou.readthedocs.io/en/master/api/tianshou.utils.html#pre-defined-networks) for details."
   ]
  },
  {
   "cell_type": "markdown",
   "metadata": {
    "id": "UPVl5LBEWJ0t"
   },
   "source": [
    "## How to compute GAE on your own?\n",
    "(Note that for this reading you need to understand the calculation of [GAE](https://arxiv.org/abs/1506.02438) advantage first)\n",
    "\n",
    "In terms of code implementation, perhaps the most difficult and annoying part is computing GAE advantage. Just now, we use the `self.compute_episodic_return()` method inherited from `BasePolicy` to save us from all those troubles. However, it is still important that we know the details behind this.\n",
    "\n",
    "To compute GAE advantage, the usage of `self.compute_episodic_return()` may go like:"
   ]
  },
  {
   "cell_type": "code",
   "execution_count": null,
   "metadata": {
    "colab": {
     "base_uri": "https://localhost:8080/"
    },
    "id": "D34GlVvPNz08",
    "outputId": "43a4e5df-59b5-4e4a-c61c-e69090810215"
   },
   "outputs": [],
   "source": [
    "batch, indices = buf.sample(0)  # 0 means sampling all the data from the buffer\n",
    "returns, advantage = BasePolicy.compute_episodic_return(\n",
    "    batch, buf, indices, v_s_=np.zeros(10), v_s=np.zeros(10), gamma=1.0, gae_lambda=1.0\n",
    ")\n",
    "print(returns)\n",
    "print(advantage)"
   ]
  },
  {
   "cell_type": "markdown",
   "metadata": {
    "id": "h_5Dt6XwQLXV"
   },
   "source": [
    "In the code above, we sample all the 10 data in the buffer and try to compute the GAE advantage. As we know, we need to estimate the value function of every observation to compute GAE advantage. so the passed in `v_s` is the value of bacth.obs, `v_s_` is the value of bacth.obs_next this is usually computed by:\n",
    "\n",
    "`v_s = critic(bacth.obs)`,\n",
    "\n",
    "`v_s_ = critic(bacth.obs_next)`,\n",
    "\n",
    "where uboth `v_s` and `v_s_` are 10 dimensional arrays and `critic` is usually a neural network.\n",
    "\n",
    "After we've got all those values, GAE can be computed following the equation below."
   ]
  },
  {
   "cell_type": "markdown",
   "metadata": {
    "id": "ooHNIICGUO19"
   },
   "source": [
    "\\begin{aligned}\n",
    "\\hat{A}_{t}^{\\mathrm{GAE}(\\gamma, \\lambda)}: =& \\sum_{l=0}^{\\infty}(\\gamma \\lambda)^{l} \\delta_{t+l}^{V}\n",
    "\\end{aligned}\n",
    "\n",
    "while\n",
    "\n",
    "\\begin{equation}\n",
    "\\delta_{t}^{V} \\quad=-V\\left(s_{t}\\right)+r_{t}+\\gamma V\\left(s_{t+1}\\right)\n",
    "\\end{equation}\n"
   ]
  },
  {
   "cell_type": "markdown",
   "metadata": {
    "id": "eV6XZaouU7EV"
   },
   "source": [
    "But, if you do follow this equation I refered from the paper. You probably will get a slightly lower performance than you expected. There are at least 3 \"bugs\" in this equation."
   ]
  },
  {
   "cell_type": "markdown",
   "metadata": {
    "id": "FCxD9gNNVYbd"
   },
   "source": [
    "**First** is that Gym always returns you a `obs_next` even if this is already the last step. The value of this timestep is exactly 0 and you should not let the neural network estimate it."
   ]
  },
  {
   "cell_type": "code",
   "execution_count": null,
   "metadata": {
    "colab": {
     "base_uri": "https://localhost:8080/"
    },
    "id": "rNZNUNgQVvRJ",
    "outputId": "44354595-c25a-4da8-b4d8-cffa31ac4b7d"
   },
   "outputs": [],
   "source": [
    "# Assume v_s_ is got by calling critic(bacth.obs_next)\n",
    "v_s_ = np.ones(10)\n",
    "v_s_ *= ~batch.done\n",
    "print(v_s_)"
   ]
  },
  {
   "cell_type": "markdown",
   "metadata": {
    "id": "2EtMi18QWXTN"
   },
   "source": [
    "After the fix above, we will perhaps get a more accurate estimate.\n",
    "\n",
    "**Secondly**, you must know when to stop bootstrapping. Usually we stop bootstrapping when we meet a `done` flag. However, in the buffer above, the last (10th) step is not marked by done=True, because the collecting has not finished. We must know all those unfinished steps so that we know when to stop bootstraping.\n",
    "\n",
    "Luckily, this can be done under the assistance of buffer because buffers in Tianshou not only store data, but also help you manage data trajectories."
   ]
  },
  {
   "cell_type": "code",
   "execution_count": null,
   "metadata": {
    "colab": {
     "base_uri": "https://localhost:8080/"
    },
    "id": "saluvX4JU6bC",
    "outputId": "2994d178-2f33-40a0-a6e4-067916b0b5c5"
   },
   "outputs": [],
   "source": [
    "unfinished_indexes = buf.unfinished_index()\n",
    "print(unfinished_indexes)\n",
    "done_indexes = np.where(batch.done)[0]\n",
    "print(done_indexes)\n",
    "stop_bootstrap_ids = np.concatenate([unfinished_indexes, done_indexes])\n",
    "print(stop_bootstrap_ids)"
   ]
  },
  {
   "cell_type": "markdown",
   "metadata": {
    "id": "qp6vVE4dYWv1"
   },
   "source": [
    "**Thirdly**, there are some special indexes which are marked by done flag. However, its value for obs_next should not be zero. This is because these steps are usually those at the last step of an episode, but this episode stops not because the agent can no longer get any rewards (value=0), but because the episode is too long so we have to truncate it. These kind of steps are always marked with `info['TimeLimit.truncated']=True` in Gym."
   ]
  },
  {
   "cell_type": "markdown",
   "metadata": {
    "id": "tWkqXRJfZTvV"
   },
   "source": [
    "As a result, we need to rewrite the equation above\n",
    "\n",
    "`v_s_ *= ~batch.done`"
   ]
  },
  {
   "cell_type": "markdown",
   "metadata": {
    "id": "kms-QtxKZe-M"
   },
   "source": [
    "to\n",
    "\n",
    "```\n",
    "mask = batch.info['TimeLimit.truncated'] | (~batch.done)\n",
    "v_s_ *= mask\n",
    "\n",
    "```\n",
    "\n",
    "\n",
    "\n"
   ]
  },
  {
   "cell_type": "markdown",
   "metadata": {
    "id": "u_aPPoKraBu6"
   },
   "source": [
    "### Summary\n",
    "If you already felt bored by now, simply remember that Tianshou can help handle all these little details so that you can focus on the algorithm itself. Just call `BasePolicy.compute_episodic_return()`.\n",
    "\n",
    "If you still feel interested, we would recommend you check Appendix C in this [paper](https://arxiv.org/abs/2107.14171v2) and implementation of `BasePolicy.value_mask()` and `BasePolicy.compute_episodic_return()` for details."
   ]
  },
  {
   "cell_type": "markdown",
   "metadata": {
    "id": "2cPnUXRBWKD9"
   },
   "source": [
    "\n",
    "![timelimit.svg](data:image/svg+xml;base64,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)\n",
    "\n",
    "![22.PNG](data:image/png;base64,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)"
   ]
  }
 ],
 "metadata": {
  "colab": {
   "provenance": []
  },
  "kernelspec": {
   "display_name": "Python 3 (ipykernel)",
   "language": "python",
   "name": "python3"
  },
  "language_info": {
   "codemirror_mode": {
    "name": "ipython",
    "version": 3
   },
   "file_extension": ".py",
   "mimetype": "text/x-python",
   "name": "python",
   "nbconvert_exporter": "python",
   "pygments_lexer": "ipython3",
   "version": "3.11.5"
  }
 },
 "nbformat": 4,
 "nbformat_minor": 4
}
